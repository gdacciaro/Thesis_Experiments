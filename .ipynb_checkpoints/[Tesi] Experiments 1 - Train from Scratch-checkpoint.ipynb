{
 "cells": [
  {
   "cell_type": "code",
   "execution_count": 3,
   "metadata": {
    "ExecuteTime": {
     "end_time": "2023-04-30T18:46:52.273281Z",
     "start_time": "2023-04-30T18:45:53.405363Z"
    },
    "id": "QbKdQimXiXwn",
    "pycharm": {
     "is_executing": true
    }
   },
   "outputs": [],
   "source": [
    "!pip uninstall torch -y &> /dev/null\n",
    "!pip install torch==1.13.1 &> /dev/null"
   ]
  },
  {
   "cell_type": "code",
   "execution_count": 21,
   "metadata": {
    "pycharm": {
     "is_executing": true
    }
   },
   "outputs": [],
   "source": [
    "import torch\n",
    "import torch.nn as nn\n",
    "import numpy as np\n",
    "import torch.nn.functional as F\n",
    "import torch.optim as optim\n",
    "import torchvision\n",
    "import torchvision.transforms as transforms\n",
    "import matplotlib.pyplot as plt\n",
    "%matplotlib inline\n",
    "from torch.utils.data import random_split"
   ]
  },
  {
   "cell_type": "code",
   "execution_count": 8,
   "metadata": {
    "ExecuteTime": {
     "end_time": "2023-04-30T18:47:12.882287Z",
     "start_time": "2023-04-30T18:47:12.860954Z"
    },
    "pycharm": {
     "is_executing": true
    }
   },
   "outputs": [],
   "source": [
    "# Set the seed for reproducibility\n",
    "torch.manual_seed(42)\n",
    "np.random.seed(42)"
   ]
  },
  {
   "cell_type": "code",
   "execution_count": 9,
   "metadata": {
    "ExecuteTime": {
     "end_time": "2023-04-30T18:47:13.488068Z",
     "start_time": "2023-04-30T18:47:13.458443Z"
    },
    "id": "QJdniX0Iidds"
   },
   "outputs": [],
   "source": [
    "class MlpNet(nn.Module):\n",
    "    def __init__(self, width_ratio=-1):\n",
    "        super(MlpNet, self).__init__()\n",
    "        input_dim = 784 # [mnist] 28 x 28 x 1\n",
    "        if width_ratio != -1:\n",
    "            self.width_ratio = width_ratio\n",
    "        else:\n",
    "            self.width_ratio = 1\n",
    "\n",
    "        self.fc1 = nn.Linear(input_dim, int(400/self.width_ratio), bias=not True)\n",
    "        self.fc2 = nn.Linear(int(400/self.width_ratio), int(200/self.width_ratio), bias=not True)\n",
    "        self.fc3 = nn.Linear(int(200/self.width_ratio), int(100/self.width_ratio), bias=not True)\n",
    "        self.fc4 = nn.Linear(int(100/self.width_ratio), 10, bias=not True)\n",
    "        self.enable_dropout = False\n",
    "\n",
    "    def forward(self, x, disable_logits=False):\n",
    "        x = x.view(x.shape[0], -1)\n",
    "        x = F.relu(self.fc1(x))\n",
    "        if self.enable_dropout:\n",
    "            x = F.dropout(x, training=self.training)\n",
    "        x = F.relu(self.fc2(x))\n",
    "        if self.enable_dropout:\n",
    "            x = F.dropout(x, training=self.training)\n",
    "        x = F.relu(self.fc3(x))\n",
    "        if self.enable_dropout:\n",
    "            x = F.dropout(x, training=self.training)\n",
    "        x = self.fc4(x)\n",
    "\n",
    "        if disable_logits:\n",
    "            return x\n",
    "        else:\n",
    "            return F.log_softmax(x)"
   ]
  },
  {
   "cell_type": "code",
   "execution_count": 10,
   "metadata": {
    "ExecuteTime": {
     "end_time": "2023-04-30T18:47:14.743351Z",
     "start_time": "2023-04-30T18:47:14.442892Z"
    },
    "id": "dza4_FenZ7wm"
   },
   "outputs": [],
   "source": [
    "# Define the transform to apply to the data\n",
    "transform = transforms.Compose([transforms.ToTensor(),\n",
    "                                transforms.Normalize((0.1307,), (0.3081,))])\n",
    "\n",
    "# Load the MNIST dataset, only keeping images of number 4\n",
    "mnist = torchvision.datasets.MNIST(root='./data', train=True, download=True, transform=transform)"
   ]
  },
  {
   "cell_type": "code",
   "execution_count": 11,
   "metadata": {
    "ExecuteTime": {
     "end_time": "2023-04-30T18:47:15.391407Z",
     "start_time": "2023-04-30T18:47:15.362851Z"
    }
   },
   "outputs": [
    {
     "data": {
      "text/plain": [
       "tensor([0, 1, 2, 3, 4, 5, 6, 7, 8, 9])"
      ]
     },
     "execution_count": 11,
     "metadata": {},
     "output_type": "execute_result"
    }
   ],
   "source": [
    "mnist.targets.unique()"
   ]
  },
  {
   "cell_type": "code",
   "execution_count": 12,
   "metadata": {
    "ExecuteTime": {
     "end_time": "2023-04-30T18:47:19.339092Z",
     "start_time": "2023-04-30T18:47:19.320354Z"
    }
   },
   "outputs": [],
   "source": [
    "idx_fours = np.where(np.array(mnist.targets) == 4)[0]\n",
    "dataset_fours = torch.utils.data.Subset(mnist, idx_fours)"
   ]
  },
  {
   "cell_type": "code",
   "execution_count": 13,
   "metadata": {
    "ExecuteTime": {
     "end_time": "2023-04-30T18:47:20.362024Z",
     "start_time": "2023-04-30T18:47:20.352302Z"
    }
   },
   "outputs": [],
   "source": [
    "dataset = torch.utils.data.DataLoader(dataset_fours, batch_size=32, shuffle=True)"
   ]
  },
  {
   "cell_type": "code",
   "execution_count": 14,
   "metadata": {
    "ExecuteTime": {
     "end_time": "2023-04-30T18:47:22.187869Z",
     "start_time": "2023-04-30T18:47:21.551612Z"
    }
   },
   "outputs": [
    {
     "data": {
      "image/png": "[encoded data removed]",
      "text/plain": [
       "<Figure size 640x480 with 1 Axes>"
      ]
     },
     "metadata": {},
     "output_type": "display_data"
    }
   ],
   "source": [
    "plt.imshow(dataset.dataset[89][0].numpy().squeeze(), cmap='gray_r');"
   ]
  },
  {
   "cell_type": "code",
   "execution_count": 17,
   "metadata": {},
   "outputs": [
    {
     "name": "stdout",
     "output_type": "stream",
     "text": [
      "5842 4674 1168\n"
     ]
    }
   ],
   "source": []
  },
  {
   "cell_type": "code",
   "execution_count": 19,
   "metadata": {},
   "outputs": [],
   "source": [
    "subset = dataset.dataset"
   ]
  },
  {
   "cell_type": "code",
   "execution_count": 22,
   "metadata": {},
   "outputs": [],
   "source": [
    "# set the split ratio\n",
    "train_ratio = 0.8\n",
    "val_ratio = 0.2\n",
    "\n",
    "# calculate the sizes of the training and validation sets\n",
    "train_size = int(train_ratio * len(subset))\n",
    "val_size = len(subset) - train_size\n",
    "\n",
    "# use random_split to split the Subset into train and validation subsets\n",
    "train_subset, val_subset = random_split(subset, [train_size, val_size])"
   ]
  },
  {
   "cell_type": "code",
   "execution_count": 40,
   "metadata": {
    "ExecuteTime": {
     "end_time": "2023-04-30T13:05:54.163947Z",
     "start_time": "2023-04-30T13:05:37.506046Z"
    },
    "colab": {
     "base_uri": "https://localhost:8080/"
    },
    "id": "XmgCLKM-hlA2",
    "outputId": "72394a8c-9ca0-4bf9-8393-89e2cfe952f8"
   },
   "outputs": [
    {
     "name": "stderr",
     "output_type": "stream",
     "text": [
      "/var/folders/6m/f_nq8g4538s6sccmbwhx5msc0000gn/T/ipykernel_29294/818318830.py:32: UserWarning: Implicit dimension choice for log_softmax has been deprecated. Change the call to include dim=X as an argument.\n",
      "  return F.log_softmax(x)\n"
     ]
    },
    {
     "name": "stdout",
     "output_type": "stream",
     "text": [
      "[1,   200] loss: 0.761\n",
      "[1,   400] loss: 0.204\n",
      "[1,   600] loss: 0.123\n",
      "[1,   800] loss: 0.091\n",
      "Finished Training\n"
     ]
    }
   ],
   "source": [
    "model = MlpNet()\n",
    "\n",
    "# Define the loss function and optimizer\n",
    "loss_function = nn.CrossEntropyLoss()\n",
    "optimizer = optim.SGD(model.parameters(), lr=0.001, momentum=0.9)\n",
    "epochs = 1\n",
    "# Train the model\n",
    "for epoch in range(epochs):\n",
    "    running_loss = 0.0\n",
    "    for i, data in enumerate(trainloader, 0):\n",
    "        inputs, labels = data\n",
    "        optimizer.zero_grad()\n",
    "\n",
    "        # Forward pass\n",
    "        outputs = model(inputs)\n",
    "        loss = loss_function(outputs, labels)\n",
    "\n",
    "        # Backward pass and optimize\n",
    "        loss.backward()\n",
    "        optimizer.step()\n",
    "\n",
    "        running_loss += loss.item()\n",
    "        if i % 200 == 199:    # Print every 200 mini-batches\n",
    "            print('[%d, %5d] loss: %.3f' %(epoch + 1, i + 1, running_loss / 200))\n",
    "            running_loss = 0.0\n",
    "\n",
    "print('Finished Training')"
   ]
  },
  {
   "cell_type": "code",
   "execution_count": null,
   "metadata": {},
   "outputs": [],
   "source": []
  },
  {
   "cell_type": "code",
   "execution_count": 41,
   "metadata": {
    "ExecuteTime": {
     "end_time": "2023-04-30T13:05:54.379828Z",
     "start_time": "2023-04-30T13:05:54.178968Z"
    }
   },
   "outputs": [
    {
     "data": {
      "image/png": "[encoded data removed]",
      "text/plain": [
       "<Figure size 640x480 with 1 Axes>"
      ]
     },
     "metadata": {},
     "output_type": "display_data"
    }
   ],
   "source": []
  },
  {
   "cell_type": "code",
   "execution_count": 13,
   "metadata": {
    "ExecuteTime": {
     "end_time": "2023-04-30T12:30:39.649239Z",
     "start_time": "2023-04-30T12:30:39.580337Z"
    }
   },
   "outputs": [
    {
     "data": {
      "text/plain": [
       "torch.utils.data.dataloader.DataLoader"
      ]
     },
     "execution_count": 13,
     "metadata": {},
     "output_type": "execute_result"
    }
   ],
   "source": [
    "type(trainloader)"
   ]
  },
  {
   "cell_type": "code",
   "execution_count": null,
   "metadata": {},
   "outputs": [],
   "source": []
  }
 ],
 "metadata": {
  "colab": {
   "provenance": []
  },
  "kernelspec": {
   "display_name": "Python 3 (ipykernel)",
   "language": "python",
   "name": "python3"
  },
  "language_info": {
   "codemirror_mode": {
    "name": "ipython",
    "version": 3
   },
   "file_extension": ".py",
   "mimetype": "text/x-python",
   "name": "python",
   "nbconvert_exporter": "python",
   "pygments_lexer": "ipython3",
   "version": "3.9.0"
  }
 },
 "nbformat": 4,
 "nbformat_minor": 1
}
