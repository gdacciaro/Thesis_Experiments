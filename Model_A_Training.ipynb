{
 "cells": [
  {
   "cell_type": "code",
   "execution_count": 1,
   "metadata": {
    "ExecuteTime": {
     "start_time": "2023-05-01T11:08:27.749258Z",
     "end_time": "2023-05-01T11:08:57.947678Z"
    },
    "id": "QbKdQimXiXwn"
   },
   "outputs": [],
   "source": [
    "!pip uninstall torch -y &> /dev/null\n",
    "!pip install torch==1.13.1 &> /dev/null"
   ]
  },
  {
   "cell_type": "code",
   "execution_count": null,
   "metadata": {
    "ExecuteTime": {
     "start_time": "2023-05-01T11:09:00.889388Z",
     "end_time": "2023-05-01T11:09:21.737963Z"
    }
   },
   "outputs": [],
   "source": [
    "import torch\n",
    "import torch.nn as nn\n",
    "import numpy as np\n",
    "import torch.nn.functional as F\n",
    "import torch.optim as optim\n",
    "import torchvision\n",
    "import torchvision.transforms as transforms\n",
    "import matplotlib.pyplot as plt\n",
    "%matplotlib inline\n",
    "from torch.utils.data import random_split"
   ]
  },
  {
   "cell_type": "code",
   "execution_count": 242,
   "metadata": {
    "ExecuteTime": {
     "start_time": "2023-05-01T13:08:26.327878Z",
     "end_time": "2023-05-01T13:08:26.364481Z"
    }
   },
   "outputs": [],
   "source": [
    "# Set the seed for reproducibility\n",
    "torch.manual_seed(42)\n",
    "np.random.seed(42)\n"
   ]
  },
  {
   "cell_type": "code",
   "execution_count": 43,
   "metadata": {
    "ExecuteTime": {
     "start_time": "2023-05-01T11:59:04.349232Z",
     "end_time": "2023-05-01T11:59:04.359597Z"
    },
    "id": "QJdniX0Iidds"
   },
   "outputs": [],
   "source": [
    "class MlpNet(nn.Module):\n",
    "    def __init__(self, width_ratio=-1):\n",
    "        super(MlpNet, self).__init__()\n",
    "        input_dim = 784 # [mnist] 28 x 28 x 1\n",
    "        if width_ratio != -1:\n",
    "            self.width_ratio = width_ratio\n",
    "        else:\n",
    "            self.width_ratio = 1\n",
    "\n",
    "        self.fc1 = nn.Linear(input_dim, int(400/self.width_ratio), bias=not True)\n",
    "        self.fc2 = nn.Linear(int(400/self.width_ratio), int(200/self.width_ratio), bias=not True)\n",
    "        self.fc3 = nn.Linear(int(200/self.width_ratio), int(100/self.width_ratio), bias=not True)\n",
    "        self.fc4 = nn.Linear(int(100/self.width_ratio), 10, bias=not True)\n",
    "        self.enable_dropout = False\n",
    "\n",
    "    def forward(self, x, disable_logits=True):\n",
    "        x = x.view(x.shape[0], -1)\n",
    "        x = F.relu(self.fc1(x))\n",
    "        if self.enable_dropout:\n",
    "            x = F.dropout(x, training=self.training)\n",
    "        x = F.relu(self.fc2(x))\n",
    "        if self.enable_dropout:\n",
    "            x = F.dropout(x, training=self.training)\n",
    "        x = F.relu(self.fc3(x))\n",
    "        if self.enable_dropout:\n",
    "            x = F.dropout(x, training=self.training)\n",
    "        x = self.fc4(x)\n",
    "\n",
    "        if disable_logits:\n",
    "            return x\n",
    "        else:\n",
    "            return F.log_softmax(x)"
   ]
  },
  {
   "cell_type": "code",
   "execution_count": 5,
   "metadata": {
    "ExecuteTime": {
     "start_time": "2023-05-01T11:09:45.950779Z",
     "end_time": "2023-05-01T11:09:46.165464Z"
    },
    "id": "dza4_FenZ7wm"
   },
   "outputs": [],
   "source": [
    "# Define the transform to apply to the data\n",
    "transform = transforms.Compose([transforms.ToTensor(),\n",
    "                                transforms.Normalize((0.1307,), (0.3081,))])\n",
    "\n",
    "# Load the MNIST dataset, only keeping images of number 4\n",
    "mnist = torchvision.datasets.MNIST(root='./data', train=True, download=True, transform=transform)"
   ]
  },
  {
   "cell_type": "code",
   "execution_count": 6,
   "metadata": {
    "ExecuteTime": {
     "start_time": "2023-05-01T11:09:47.324568Z",
     "end_time": "2023-05-01T11:09:47.377010Z"
    }
   },
   "outputs": [
    {
     "data": {
      "text/plain": "tensor([0, 1, 2, 3, 4, 5, 6, 7, 8, 9])"
     },
     "execution_count": 6,
     "metadata": {},
     "output_type": "execute_result"
    }
   ],
   "source": [
    "mnist.targets.unique()"
   ]
  },
  {
   "cell_type": "code",
   "execution_count": 7,
   "metadata": {
    "ExecuteTime": {
     "start_time": "2023-05-01T11:09:51.060364Z",
     "end_time": "2023-05-01T11:09:51.070512Z"
    }
   },
   "outputs": [],
   "source": [
    "idx_fours = np.where(np.array(mnist.targets) == 4)[0]\n",
    "dataset_fours = torch.utils.data.Subset(mnist, idx_fours)"
   ]
  },
  {
   "cell_type": "code",
   "execution_count": 243,
   "metadata": {
    "ExecuteTime": {
     "start_time": "2023-05-01T13:08:39.642195Z",
     "end_time": "2023-05-01T13:08:39.648132Z"
    }
   },
   "outputs": [],
   "source": [
    "dataset = torch.utils.data.DataLoader(dataset_fours, batch_size=32, shuffle=True)"
   ]
  },
  {
   "cell_type": "code",
   "execution_count": 244,
   "metadata": {
    "ExecuteTime": {
     "start_time": "2023-05-01T13:08:40.165778Z",
     "end_time": "2023-05-01T13:08:40.567384Z"
    }
   },
   "outputs": [
    {
     "data": {
      "text/plain": "<Figure size 640x480 with 1 Axes>",
      "image/png": "[encoded data removed]"
     },
     "metadata": {},
     "output_type": "display_data"
    }
   ],
   "source": [
    "plt.imshow(dataset.dataset[81][0].numpy().squeeze(), cmap='gray_r');"
   ]
  },
  {
   "cell_type": "code",
   "execution_count": 245,
   "metadata": {
    "ExecuteTime": {
     "start_time": "2023-05-01T13:08:42.921040Z",
     "end_time": "2023-05-01T13:08:42.926759Z"
    }
   },
   "outputs": [],
   "source": [
    "dataset = dataset.dataset"
   ]
  },
  {
   "cell_type": "code",
   "execution_count": 246,
   "metadata": {
    "ExecuteTime": {
     "start_time": "2023-05-01T13:08:43.690604Z",
     "end_time": "2023-05-01T13:08:43.697474Z"
    }
   },
   "outputs": [],
   "source": [
    "# set the split ratio\n",
    "train_ratio = 0.8\n",
    "val_ratio = 0.2\n",
    "\n",
    "# calculate the sizes of the training and validation sets\n",
    "train_size = int(train_ratio * len(dataset))\n",
    "test_size = len(dataset) - train_size\n",
    "\n",
    "# use random_split to split the Subset into train and validation subsets\n",
    "training_data, test_data = random_split(dataset, [train_size, test_size])"
   ]
  },
  {
   "cell_type": "code",
   "execution_count": 299,
   "outputs": [
    {
     "name": "stdout",
     "output_type": "stream",
     "text": [
      "Hyperparameters:\n",
      "lr:  1e-05\n",
      "momentum:  0.9\n",
      "batch_size:  16\n",
      "epochs:  1\n",
      "weight_decay:  1\n"
     ]
    }
   ],
   "source": [
    "# --------------\n",
    "# HYPERPARAMETERS\n",
    "lr = 0.00001\n",
    "momentum = 0.9\n",
    "batch_size = 16\n",
    "epochs = 1\n",
    "weight_decay = 1\n",
    "# --------------\n",
    "#print the hyperparameters in a table\n",
    "print(\"Hyperparameters:\")\n",
    "print(\"lr: \",lr)\n",
    "print(\"momentum: \",momentum)\n",
    "print(\"batch_size: \",batch_size)\n",
    "print(\"epochs: \",epochs)\n",
    "print(\"weight_decay: \",weight_decay)"
   ],
   "metadata": {
    "collapsed": false,
    "ExecuteTime": {
     "start_time": "2023-05-01T13:26:48.020573Z",
     "end_time": "2023-05-01T13:26:48.026137Z"
    }
   }
  },
  {
   "cell_type": "code",
   "execution_count": 300,
   "metadata": {
    "ExecuteTime": {
     "start_time": "2023-05-01T13:26:48.178063Z",
     "end_time": "2023-05-01T13:26:48.194694Z"
    },
    "colab": {
     "base_uri": "https://localhost:8080/"
    },
    "id": "XmgCLKM-hlA2",
    "outputId": "72394a8c-9ca0-4bf9-8393-89e2cfe952f8"
   },
   "outputs": [],
   "source": [
    "model = MlpNet()\n",
    "\n",
    "# Define the loss function and optimizer\n",
    "loss_function = nn.CrossEntropyLoss()\n",
    "optimizer = optim.SGD(model.parameters(), lr=lr, momentum=momentum, weight_decay=weight_decay)"
   ]
  },
  {
   "cell_type": "code",
   "execution_count": 301,
   "metadata": {
    "ExecuteTime": {
     "start_time": "2023-05-01T13:26:48.369192Z",
     "end_time": "2023-05-01T13:26:48.375099Z"
    }
   },
   "outputs": [
    {
     "name": "stdout",
     "output_type": "stream",
     "text": [
      "The traning set has  4673 images.\n",
      "The test set has  1169 images.\n",
      "The batch size is  16 .\n",
      "There will be 292 batches per epoch.\n"
     ]
    }
   ],
   "source": [
    "print(\"The traning set has \",len(training_data), \"images.\")\n",
    "print(\"The test set has \",len(test_data), \"images.\")\n",
    "print(\"The batch size is \",batch_size, \".\")\n",
    "print(\"There will be\",int(len(training_data)/batch_size), \"batches per epoch.\")"
   ]
  },
  {
   "cell_type": "code",
   "execution_count": 302,
   "outputs": [],
   "source": [
    "from torch.utils.data import DataLoader\n",
    "\n",
    "train_dataloader = DataLoader(training_data, batch_size=batch_size, shuffle=True)\n",
    "test_dataloader = DataLoader(test_data, batch_size=batch_size, shuffle=True)"
   ],
   "metadata": {
    "collapsed": false,
    "ExecuteTime": {
     "start_time": "2023-05-01T13:26:48.522350Z",
     "end_time": "2023-05-01T13:26:48.527513Z"
    }
   }
  },
  {
   "cell_type": "code",
   "execution_count": 303,
   "outputs": [
    {
     "name": "stdout",
     "output_type": "stream",
     "text": [
      "Lenght of train_dataloader: 293\n",
      "Lenght of test_dataloader: 74\n",
      "Feature batch shape: torch.Size([16, 1, 28, 28])\n",
      "Labels batch shape: torch.Size([16])\n"
     ]
    },
    {
     "data": {
      "text/plain": "<Figure size 640x480 with 1 Axes>",
      "image/png": "[encoded data removed]"
     },
     "metadata": {},
     "output_type": "display_data"
    },
    {
     "name": "stdout",
     "output_type": "stream",
     "text": [
      "Label: 4\n"
     ]
    }
   ],
   "source": [
    "train_features, train_labels = next(iter(train_dataloader))\n",
    "print(f\"Lenght of train_dataloader: {len(train_dataloader)}\")\n",
    "print(f\"Lenght of test_dataloader: {len(test_dataloader)}\")\n",
    "\n",
    "print(f\"Feature batch shape: {train_features.size()}\")\n",
    "print(f\"Labels batch shape: {train_labels.size()}\")\n",
    "img = train_features[0].squeeze()\n",
    "label = train_labels[0]\n",
    "plt.imshow(img, cmap=\"gray\")\n",
    "plt.show()\n",
    "print(f\"Label: {label}\")"
   ],
   "metadata": {
    "collapsed": false,
    "ExecuteTime": {
     "start_time": "2023-05-01T13:26:48.683763Z",
     "end_time": "2023-05-01T13:26:49.716209Z"
    }
   }
  },
  {
   "cell_type": "code",
   "execution_count": 304,
   "metadata": {
    "ExecuteTime": {
     "start_time": "2023-05-01T13:26:49.727252Z",
     "end_time": "2023-05-01T13:26:49.729561Z"
    }
   },
   "outputs": [],
   "source": [
    "def train_loop(dataloader, model, loss_fn, optimizer, plot_the_loss=True):\n",
    "    size = len(dataloader.dataset)\n",
    "    losses = []\n",
    "    for batch, (X, y) in enumerate(dataloader):\n",
    "        # Compute prediction and loss\n",
    "        pred = model(X)\n",
    "        loss = loss_fn(pred, y)\n",
    "\n",
    "        # Backpropagation\n",
    "        optimizer.zero_grad()\n",
    "        loss.backward()\n",
    "        optimizer.step()\n",
    "\n",
    "        losses.append(loss.item())\n",
    "\n",
    "        if batch % 10 == 0:\n",
    "            loss, current = loss.item(), (batch + 1) * len(X)\n",
    "            print(f\"loss: {loss:>4f}  [{current:>5d}/{size:>5d}]\")\n",
    "\n",
    "    if plot_the_loss:\n",
    "        plt.plot(losses)\n",
    "        plt.show()\n",
    "\n",
    "\n",
    "def test_loop(dataloader, model, loss_fn):\n",
    "    size = len(dataloader.dataset)\n",
    "    num_batches = len(dataloader)\n",
    "    test_loss, correct = 0, 0\n",
    "\n",
    "    with torch.no_grad():\n",
    "        for X, y in dataloader:\n",
    "            pred = model(X)\n",
    "            test_loss += loss_fn(pred, y).item()\n",
    "            correct += (pred.argmax(1) == y).type(torch.float).sum().item()\n",
    "\n",
    "    test_loss /= num_batches\n",
    "    correct /= size\n",
    "    print(f\"Test Error: \\n Accuracy: {(100*correct):>0.1f}%, Avg loss: {test_loss:>8f} \\n\")"
   ]
  },
  {
   "cell_type": "code",
   "execution_count": 305,
   "outputs": [
    {
     "name": "stdout",
     "output_type": "stream",
     "text": [
      "Epoch 1:\n",
      "loss: 2.268603  [   16/ 4673]\n",
      "loss: 2.267456  [  176/ 4673]\n",
      "loss: 2.262257  [  336/ 4673]\n",
      "loss: 2.276152  [  496/ 4673]\n",
      "loss: 2.259890  [  656/ 4673]\n",
      "loss: 2.266355  [  816/ 4673]\n",
      "loss: 2.261967  [  976/ 4673]\n",
      "loss: 2.255176  [ 1136/ 4673]\n",
      "loss: 2.260234  [ 1296/ 4673]\n",
      "loss: 2.258275  [ 1456/ 4673]\n",
      "loss: 2.260390  [ 1616/ 4673]\n",
      "loss: 2.259737  [ 1776/ 4673]\n",
      "loss: 2.250943  [ 1936/ 4673]\n",
      "loss: 2.251142  [ 2096/ 4673]\n",
      "loss: 2.254017  [ 2256/ 4673]\n",
      "loss: 2.247210  [ 2416/ 4673]\n",
      "loss: 2.245151  [ 2576/ 4673]\n",
      "loss: 2.246871  [ 2736/ 4673]\n",
      "loss: 2.241661  [ 2896/ 4673]\n",
      "loss: 2.246705  [ 3056/ 4673]\n",
      "loss: 2.242903  [ 3216/ 4673]\n",
      "loss: 2.239133  [ 3376/ 4673]\n",
      "loss: 2.232411  [ 3536/ 4673]\n",
      "loss: 2.231053  [ 3696/ 4673]\n",
      "loss: 2.239419  [ 3856/ 4673]\n",
      "loss: 2.244073  [ 4016/ 4673]\n",
      "loss: 2.234896  [ 4176/ 4673]\n",
      "loss: 2.233923  [ 4336/ 4673]\n",
      "loss: 2.233409  [ 4496/ 4673]\n",
      "loss: 2.233239  [ 4656/ 4673]\n"
     ]
    },
    {
     "data": {
      "text/plain": "<Figure size 640x480 with 1 Axes>",
      "image/png": "[encoded data removed]"
     },
     "metadata": {},
     "output_type": "display_data"
    },
    {
     "name": "stdout",
     "output_type": "stream",
     "text": [
      "Test Error: \n",
      " Accuracy: 90.0%, Avg loss: 2.232953 \n",
      "\n",
      "Done!\n"
     ]
    }
   ],
   "source": [
    "loss_fn = nn.CrossEntropyLoss()\n",
    "\n",
    "for t in range(epochs):\n",
    "    print(f\"Epoch {t+1}:\")\n",
    "    train_loop(train_dataloader, model, loss_fn, optimizer)\n",
    "\n",
    "test_loop(test_dataloader, model, loss_fn)\n",
    "print(\"Done!\")"
   ],
   "metadata": {
    "collapsed": false,
    "ExecuteTime": {
     "start_time": "2023-05-01T13:26:49.732272Z",
     "end_time": "2023-05-01T13:26:53.356741Z"
    }
   }
  },
  {
   "cell_type": "code",
   "execution_count": 309,
   "metadata": {
    "ExecuteTime": {
     "start_time": "2023-05-01T13:49:30.452046Z",
     "end_time": "2023-05-01T13:49:30.474756Z"
    }
   },
   "outputs": [],
   "source": [
    "#Save model\n",
    "torch.save(model.state_dict(), \"model_A.pth\")"
   ]
  },
  {
   "cell_type": "code",
   "execution_count": 310,
   "metadata": {
    "ExecuteTime": {
     "start_time": "2023-05-01T13:49:31.281943Z",
     "end_time": "2023-05-01T13:49:32.138973Z"
    }
   },
   "outputs": [
    {
     "name": "stdout",
     "output_type": "stream",
     "text": [
      "Test Error: \n",
      " Accuracy: 90.0%, Avg loss: 2.233103 \n",
      "\n"
     ]
    }
   ],
   "source": [
    "#Read the model\n",
    "model_A = MlpNet()\n",
    "model_A.load_state_dict(torch.load(\"model_A.pth\"))\n",
    "model_A.eval()\n",
    "test_loop(test_dataloader, model_A, loss_fn)"
   ]
  },
  {
   "cell_type": "code",
   "execution_count": 313,
   "outputs": [],
   "source": [],
   "metadata": {
    "collapsed": false,
    "ExecuteTime": {
     "start_time": "2023-05-01T16:21:52.174162Z",
     "end_time": "2023-05-01T16:21:52.184940Z"
    }
   }
  },
  {
   "cell_type": "code",
   "execution_count": 314,
   "outputs": [],
   "source": [],
   "metadata": {
    "collapsed": false,
    "ExecuteTime": {
     "start_time": "2023-05-01T16:21:52.326041Z",
     "end_time": "2023-05-01T16:21:52.343058Z"
    }
   }
  },
  {
   "cell_type": "code",
   "execution_count": 316,
   "outputs": [
    {
     "name": "stdout",
     "output_type": "stream",
     "text": [
      "Loading model at path mnist_models/model_0/final.checkpoint which had accuracy 97.72 and at epoch 10\n",
      "Accuracy of the model A is 97.72\n"
     ]
    }
   ],
   "source": [],
   "metadata": {
    "collapsed": false,
    "ExecuteTime": {
     "start_time": "2023-05-01T16:21:59.145315Z",
     "end_time": "2023-05-01T16:21:59.180871Z"
    }
   }
  },
  {
   "cell_type": "code",
   "execution_count": 317,
   "outputs": [
    {
     "name": "stdout",
     "output_type": "stream",
     "text": [
      "Test Error: \n",
      " Accuracy: 99.7%, Avg loss: 0.012264 \n",
      "\n"
     ]
    }
   ],
   "source": [],
   "metadata": {
    "collapsed": false,
    "ExecuteTime": {
     "start_time": "2023-05-01T16:22:27.631728Z",
     "end_time": "2023-05-01T16:22:28.455528Z"
    }
   }
  },
  {
   "cell_type": "code",
   "execution_count": null,
   "outputs": [],
   "source": [],
   "metadata": {
    "collapsed": false
   }
  }
 ],
 "metadata": {
  "colab": {
   "provenance": []
  },
  "kernelspec": {
   "display_name": "Python 3 (ipykernel)",
   "language": "python",
   "name": "python3"
  },
  "language_info": {
   "codemirror_mode": {
    "name": "ipython",
    "version": 3
   },
   "file_extension": ".py",
   "mimetype": "text/x-python",
   "name": "python",
   "nbconvert_exporter": "python",
   "pygments_lexer": "ipython3",
   "version": "3.9.0"
  }
 },
 "nbformat": 4,
 "nbformat_minor": 1
}
